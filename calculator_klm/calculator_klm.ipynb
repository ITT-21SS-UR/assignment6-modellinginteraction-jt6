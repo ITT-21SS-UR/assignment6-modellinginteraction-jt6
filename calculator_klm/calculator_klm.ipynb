{
 "cells": [
  {
   "cell_type": "markdown",
   "id": "senior-ebony",
   "metadata": {},
   "source": [
    "# Determine KLM operators"
   ]
  },
  {
   "cell_type": "markdown",
   "id": "experimental-conducting",
   "metadata": {},
   "source": [
    "#### We determined the following KLM operators for the study:\n",
    "\n",
    "K = keystroke, the time of each keystroke is measured and the average is calculated at the end.\n",
    "\n",
    "P = target detection on the display with the mouse\n",
    "\n",
    "H = time for hand movement when changing input devices\n",
    "\n",
    "M = mental preparation time needed by the user to perform the task\n",
    "\n",
    "BB = clicking with the mouse (press and release)\n",
    "\n",
    "R is system-dependent. Since all experiments are performed on the same laptop, this time can be neglected.\n",
    "\n",
    "D could not be used in our study, therefore this operator was not calculated.\n",
    "\n",
    "#### We then performed a small study for each operator to calculate their respective times\n",
    "\n",
    "K = This was calculated by pressing a button 11 times or clicking a button 11 times. This was then repeated 5 \n",
    "times to get a meaningful average value. We used the number 1 vor this.\n",
    "\n",
    "P = This was calculated by pressing the same keys 11 times or clicking the button 11 times in a row. This was repeated 5 times. To be able to compare the results, the same buttons with the same distances were used, in our case this was 1-1-1...\n",
    "\n",
    "H = To calculate the movement time, the number 1 was alternately entered on the keyboard and the button 1 on the calculator. The mouse pointer was always on the button and did not have to be moved. Thus the time can be measured which one needs to move the hand from the keyboard to the mouse and to click it\n",
    "\n",
    "M = Mental time cannot be measured, therefore the known time 1.2 sec is used for this purpose \n",
    "\n",
    "BB = this was measured by clicking the same Button 11 times. This was repeated 5 times\n",
    "\n",
    "We run the test for H several times because our results were always significantly slower. However it was always the same time and we therefore used it for further calculations\n"
   ]
  },
  {
   "cell_type": "markdown",
   "id": "green-motivation",
   "metadata": {},
   "source": [
    "## Import packages"
   ]
  },
  {
   "cell_type": "code",
   "execution_count": 2,
   "id": "efficient-viewer",
   "metadata": {},
   "outputs": [],
   "source": [
    "import pandas as pd\n",
    "import matplotlib\n",
    "from matplotlib import pyplot as plt\n",
    "from scipy import stats\n",
    "import numpy as np"
   ]
  },
  {
   "cell_type": "markdown",
   "id": "flexible-eleven",
   "metadata": {},
   "source": [
    "## Import data"
   ]
  },
  {
   "cell_type": "code",
   "execution_count": 3,
   "id": "opening-smell",
   "metadata": {},
   "outputs": [],
   "source": [
    "# import data from csv\n",
    "df_K = pd.read_csv('k.csv')\n",
    "df_P = pd.read_csv('p.csv')\n",
    "df_H = pd.read_csv('h.csv')\n",
    "df_BB = pd.read_csv('bb.csv')"
   ]
  },
  {
   "cell_type": "code",
   "execution_count": 8,
   "id": "leading-meditation",
   "metadata": {},
   "outputs": [
    {
     "name": "stdout",
     "output_type": "stream",
     "text": [
      "Time for operator K: 0.2 seconds\n"
     ]
    }
   ],
   "source": [
    "# calculate the time for K \n",
    "k_rep_1 = df_K[0:11]['timestamp_msSinceEpoch']\n",
    "k_rep_2 = df_K[12:23]['timestamp_msSinceEpoch']\n",
    "k_rep_3 = df_K[24:35]['timestamp_msSinceEpoch']\n",
    "k_rep_4 = df_K[36:47]['timestamp_msSinceEpoch']\n",
    "k_rep_5 = df_K[48:59]['timestamp_msSinceEpoch']\n",
    "k_diff_1 = np.diff(k_rep_1)\n",
    "k_diff_2 = np.diff(k_rep_2)\n",
    "k_diff_3 = np.diff(k_rep_3)\n",
    "k_diff_4 = np.diff(k_rep_4)\n",
    "k_diff_5 = np.diff(k_rep_5)\n",
    "k_mean_1 = np.mean(k_diff_1)\n",
    "k_mean_2 = np.mean(k_diff_2)\n",
    "k_mean_3 = np.mean(k_diff_3)\n",
    "k_mean_4 = np.mean(k_diff_4)\n",
    "k_mean_5 = np.mean(k_diff_5)\n",
    "k_mean = np.mean([k_mean_1, k_mean_2, k_mean_3, k_mean_4, k_mean_5])\n",
    "k_in_sec = round((k_mean/1000),2)\n",
    "print('Time for operator K: ' + str(k_in_sec) + ' seconds')"
   ]
  },
  {
   "cell_type": "code",
   "execution_count": 9,
   "id": "contemporary-viking",
   "metadata": {},
   "outputs": [
    {
     "name": "stdout",
     "output_type": "stream",
     "text": [
      "Time for operator P: 1.0207157907641289 seconds\n"
     ]
    }
   ],
   "source": [
    "# calculate the time for P\n",
    "# we got this equation from: Card et al (1980). The Keystroke-Level Model for User Performance Time with Interactive Systems\n",
    "# t(p) = 0.8 + (0.1 * np.log2((d / s) + 0.5))\n",
    "# d = obj_1 - obj_2 = 445.5 - 235.5 \n",
    "d = 210\n",
    "s = 51\n",
    "p_time= 0.8 + (0.1 * np.log2((d / s) + 0.5))\n",
    "print('Time for operator P: ' + str(p_time) + ' seconds')"
   ]
  },
  {
   "cell_type": "code",
   "execution_count": 10,
   "id": "scientific-korean",
   "metadata": {
    "scrolled": true
   },
   "outputs": [
    {
     "name": "stdout",
     "output_type": "stream",
     "text": [
      "Time for operator H: 0.85 seconds\n"
     ]
    }
   ],
   "source": [
    "# calculate the time for H \n",
    "h_rep_1 = df_P[0:12]['timestamp_msSinceEpoch']\n",
    "h_rep_2 = df_P[13:25]['timestamp_msSinceEpoch']\n",
    "h_rep_3 = df_P[26:38]['timestamp_msSinceEpoch']\n",
    "h_rep_4 = df_P[39:51]['timestamp_msSinceEpoch']\n",
    "h_rep_5 = df_P[52:64]['timestamp_msSinceEpoch']\n",
    "h_diff_1 = np.diff(h_rep_1)\n",
    "h_diff_2 = np.diff(h_rep_2)\n",
    "h_diff_3 = np.diff(h_rep_3)\n",
    "h_diff_4 = np.diff(h_rep_4)\n",
    "h_diff_5 = np.diff(h_rep_5)\n",
    "h_mean_1 = np.mean(h_diff_1)\n",
    "h_mean_2 = np.mean(h_diff_2)\n",
    "h_mean_3 = np.mean(h_diff_3)\n",
    "h_mean_4 = np.mean(h_diff_4)\n",
    "h_mean_5 = np.mean(h_diff_5)\n",
    "h_mean = np.mean([h_mean_1, h_mean_2, h_mean_3, h_mean_4, h_mean_5])\n",
    "h_in_sec = round((h_mean/1000),2)\n",
    "print('Time for operator H: ' + str(h_in_sec) + ' seconds')"
   ]
  },
  {
   "cell_type": "code",
   "execution_count": 11,
   "id": "still-degree",
   "metadata": {},
   "outputs": [
    {
     "name": "stdout",
     "output_type": "stream",
     "text": [
      "Time for operator B: 0.1 seconds\n"
     ]
    }
   ],
   "source": [
    "# calculate the time for BB in ms\n",
    "bb_rep_1 = df_K[0:11]['timestamp_msSinceEpoch']\n",
    "bb_rep_2 = df_K[12:23]['timestamp_msSinceEpoch']\n",
    "bb_rep_3 = df_K[24:35]['timestamp_msSinceEpoch']\n",
    "bb_rep_4 = df_K[36:47]['timestamp_msSinceEpoch']\n",
    "bb_rep_5 = df_K[48:59]['timestamp_msSinceEpoch']\n",
    "bb_diff_1 = np.diff(bb_rep_1)\n",
    "bb_diff_2 = np.diff(bb_rep_2)\n",
    "bb_diff_3 = np.diff(bb_rep_3)\n",
    "bb_diff_4 = np.diff(bb_rep_4)\n",
    "bb_diff_5 = np.diff(bb_rep_5)\n",
    "bb_mean_1 = np.mean(bb_diff_1)\n",
    "bb_mean_2 = np.mean(bb_diff_2)\n",
    "bb_mean_3 = np.mean(bb_diff_3)\n",
    "bb_mean_4 = np.mean(bb_diff_4)\n",
    "bb_mean_5 = np.mean(bb_diff_5)\n",
    "bb_mean = np.mean([bb_mean_1, bb_mean_2, bb_mean_3, bb_mean_4, bb_mean_5])\n",
    "b_mean = bb_mean/2\n",
    "b_in_sec = round((b_mean/1000),2)\n",
    "print('Time for operator B: ' + str(b_in_sec) + ' seconds')"
   ]
  }
 ],
 "metadata": {
  "kernelspec": {
   "display_name": "Python 3",
   "language": "python",
   "name": "python3"
  },
  "language_info": {
   "codemirror_mode": {
    "name": "ipython",
    "version": 3
   },
   "file_extension": ".py",
   "mimetype": "text/x-python",
   "name": "python",
   "nbconvert_exporter": "python",
   "pygments_lexer": "ipython3",
   "version": "3.9.2"
  }
 },
 "nbformat": 4,
 "nbformat_minor": 5
}
