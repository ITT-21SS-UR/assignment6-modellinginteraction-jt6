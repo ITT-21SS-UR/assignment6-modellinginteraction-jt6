{
 "cells": [
  {
   "cell_type": "markdown",
   "id": "sophisticated-elephant",
   "metadata": {},
   "source": [
    "# Task completion time study"
   ]
  },
  {
   "cell_type": "markdown",
   "id": "developed-trouble",
   "metadata": {},
   "source": [
    "### Testdesign\n",
    "\n",
    "In this study we want to determine the completion time of different tasks via a short experiment. To do this, we collected our own data through our experiment and compared them at the end with the standard values for KLM operators¹."
   ]
  },
  {
   "cell_type": "markdown",
   "id": "appointed-summary",
   "metadata": {},
   "source": [
    "#### Participants"
   ]
  },
  {
   "cell_type": "markdown",
   "id": "interpreted-miami",
   "metadata": {},
   "source": [
    "The study was tested with two participants. Both of them are skilled in writing on the computer. In a previously conducted writing test, it was found that the average words-per-minute of the subjects ranged between 55 and 60 WPM². Therefore we used the time of an “average skilled typist” with 55WPM and a time of 0.20 seconds³. "
   ]
  },
  {
   "cell_type": "markdown",
   "id": "welcome-appeal",
   "metadata": {},
   "source": [
    "#### Variables"
   ]
  },
  {
   "cell_type": "markdown",
   "id": "competent-election",
   "metadata": {},
   "source": [
    "We had to different variables, independent and dependent. In the case of this study, these were two different arithmetic tasks, each of which had to be performed using the mouse and keyboard. Therefor our study consists of three independent variables:, the task, mouse and keyboard. From these depend our dependent variables, the time it takes the users to complete the task."
   ]
  },
  {
   "cell_type": "markdown",
   "id": "exempt-cookbook",
   "metadata": {},
   "source": [
    "#### Setup"
   ]
  },
  {
   "cell_type": "markdown",
   "id": "frequent-pollution",
   "metadata": {},
   "source": [
    "the study was conducted on a Laptop with a screen size of 13 inches, a normal keyboard without numpad and a mouse. The participants are seated infront of the laptop in a somewhat quiet enviroment to minimize disturbing factors.The subjects had to perform four tasks:\n",
    "\n",
    "1. Adding numbers from 1-20 using the mouse\n",
    "2. Adding numbers from 1-20 using the keyboard\n",
    "3. Calculating the result of (3² + 4²) * 15.2 using the mouse\n",
    "4. Calculating the result of (3² + 4²) * 15.2 using the keyboard\n",
    "\n",
    "To obtain meaningful results, each task was repeated 10 times. After each round 'clear all' was pressed to clear all entries. Since this keystroke is not part of the actual task and the time was clearly distorted especially with keyboard entries (here a dash was made to not lose track of the runs), this time was excluded from the total time. From each run, the time between the first keystroke or mouse click and pressing the enter key/clicking the = button was calculated. The overall mean was then calculated from all 20 runs. This allowed us to get the average time for each of the four tasks.\n",
    "Since the first movement to button 1 is not calculated for tasks with the mouse, the time for P (according to Kieras 1.1 sec) is added to each repetition. Since the logged time is in ms, each repetition is divided by 1000 to get the time in seconds.\n",
    "\n",
    "When comparing the different times per task in a plt.bar, we have represented the standard deviation of the 20 repetitions by an error bar. Since there is no standard deviation in the values previously calculated with the calculator and the values taken from the literature, the value here was set to 0.\n",
    "\n",
    "Since the calculator does not have a button for bracket or exponent (hochzahl?), this equation had to be adapted.\n",
    "\n",
    "3. (3² + 4²) * 15.2 using the mouse is 3 * 3 + 4 * 4 = * 15.2\n",
    "4. (3² + 4²) * 15.2 using the keyboard is 3 shift/ 3 + 4 shift/ 4 = * 15.2"
   ]
  },
  {
   "cell_type": "markdown",
   "id": "buried-strengthening",
   "metadata": {},
   "source": [
    "#### Results"
   ]
  },
  {
   "cell_type": "markdown",
   "id": "integral-saturday",
   "metadata": {},
   "source": [
    "The results are different. In tasks one and two as well as in three and four, the inputs with the keyboard were significantly faster than with the mouse. The average speed for task one was 39.18 seconds, while for task 2 it was only 15 .1 seconds. This shows that the same task took more than twice as long with the mouse than with the keyboard. There are similar results for tasks three and four, but there the difference was not quite as big. The test subjects needed an average of 11.43 seconds for the task with the mouse, and 7.47 seconds with the keyboard. In general, it can be seen that inputs with the keyboard are much faster than with the mouse.\n",
    "\n",
    "Also of interest are the results of comparing the times collected in this study with those of Card, Moran, Newell and Kieras and those of the calculator. \n",
    "\n",
    "In task 1 the results were much faster, with an average of 39.18 sec, while the other two values were 66.3 sec (CMNK) and 62.22 sec (calculator). There are similar results for task 3, where the measured time is 11.43 sec, compared to 18.2 (CMNK) and 17.08 (calculator). Again, our time is significantly lower than the other two. This shows that our inputs with the mouse were faster than the values of Card, Moran, Newell and Kieras and those of the calculator.\n",
    "\n",
    "The situation is different for keyboard inputs, where of Card, Moran, Newell and Kieras’ and those of the calculator are faster than ours. In task 2, our value of 15.1 seconds was higher than 10.2 (CMNK) and also 10.2 (calculator). Similar results can be seen in task 4, where we only achieved an average time of 7.47, while it is 3.4 seconds for each of the other two (CMNK & calculator). This shows that the keyboard inputs in our study were slower than those of Card, Moran, Newell and Kieras and the calculator"
   ]
  },
  {
   "cell_type": "markdown",
   "id": "ranking-spectrum",
   "metadata": {},
   "source": [
    "Literature:\n",
    "1) Kieras, David. (2003). Using the Keystroke_level Model to Estimate Execution Times.\n",
    "\n",
    "2) https://10fastfingers.com/typing-test/german\n",
    "\n",
    "3) Kieras, David. (2003). Using the Keystroke_level Model to Estimate Execution Times."
   ]
  },
  {
   "cell_type": "markdown",
   "id": "optimum-substitute",
   "metadata": {},
   "source": [
    "### Estimates for the four tasks"
   ]
  },
  {
   "cell_type": "markdown",
   "id": "permanent-narrow",
   "metadata": {},
   "source": [
    "#### Task 1: Adding numbers from 1-20 using the mouse"
   ]
  },
  {
   "cell_type": "markdown",
   "id": "closing-sierra",
   "metadata": {},
   "source": [
    "KLM operators: 51P 51B 51B\n",
    "\n",
    "Time estimate according to Card, Moran, Newell and Kieras: 66.3 sec\n",
    "\n",
    "Time estimates according to Calculator: 62.22 sec"
   ]
  },
  {
   "cell_type": "markdown",
   "id": "thrown-sentence",
   "metadata": {},
   "source": [
    "#### Task 2: Adding numbers from 1-20 using the keyboard"
   ]
  },
  {
   "cell_type": "markdown",
   "id": "rational-competition",
   "metadata": {},
   "source": [
    "KLM operators: 51K\n",
    "\n",
    "Time estimate according to Card, Moran, Newell and Kieras: 10.2 sec\n",
    "\n",
    "Time estimates according to Calculator: 10.2 sec"
   ]
  },
  {
   "cell_type": "markdown",
   "id": "capital-reaction",
   "metadata": {},
   "source": [
    "#### Task 3: Calculating the result of (3² + 4²) * 15.2 using the mouse"
   ]
  },
  {
   "cell_type": "markdown",
   "id": "removed-genre",
   "metadata": {},
   "source": [
    "KLM operators: 14P 14B 14B\n",
    "\n",
    "Time estimate according to Card, Moran, Newell and Kieras: 18.2 sec\n",
    "\n",
    "Time estimates according to Calculator: 17.08 sec"
   ]
  },
  {
   "cell_type": "markdown",
   "id": "quiet-playback",
   "metadata": {},
   "source": [
    "#### Task 4: Calculating the result of (3² + 4²) * 15.2 using the keyboard"
   ]
  },
  {
   "cell_type": "markdown",
   "id": "micro-lottery",
   "metadata": {},
   "source": [
    "KLM operators: 17K\n",
    "\n",
    "Time estimate according to Card, Moran, Newell and Kieras: 3.4 sec\n",
    "\n",
    "Time estimates according to Calculator: 3.4 sec"
   ]
  },
  {
   "cell_type": "markdown",
   "id": "grave-baker",
   "metadata": {},
   "source": [
    "## Import packages"
   ]
  },
  {
   "cell_type": "code",
   "execution_count": 88,
   "id": "level-karen",
   "metadata": {},
   "outputs": [],
   "source": [
    "import pandas as pd\n",
    "import matplotlib\n",
    "from matplotlib import pyplot as plt\n",
    "from scipy import stats\n",
    "import numpy as np"
   ]
  },
  {
   "cell_type": "markdown",
   "id": "otherwise-webmaster",
   "metadata": {},
   "source": [
    "## Import data"
   ]
  },
  {
   "cell_type": "code",
   "execution_count": 89,
   "id": "automatic-judge",
   "metadata": {},
   "outputs": [],
   "source": [
    "# import data from csv\n",
    "df_task_1_1 = pd.read_csv('task_1_1.csv')\n",
    "df_task_2_1 = pd.read_csv('task_2_1.csv')\n",
    "df_task_3_1 = pd.read_csv('task_3_1.csv')\n",
    "df_task_4_1 = pd.read_csv('task_4_1.csv')\n",
    "df_task_1_2 = pd.read_csv('task_1_2.csv')\n",
    "df_task_2_2 = pd.read_csv('task_2_2.csv')\n",
    "df_task_3_2 = pd.read_csv('task_3_2.csv')\n",
    "df_task_4_2 = pd.read_csv('task_4_2.csv')\n",
    "first_pointing = 1.1\n",
    "sec = 1000"
   ]
  },
  {
   "cell_type": "code",
   "execution_count": 105,
   "id": "macro-tsunami",
   "metadata": {},
   "outputs": [
    {
     "data": {
      "text/plain": [
       "39.182"
      ]
     },
     "execution_count": 105,
     "metadata": {},
     "output_type": "execute_result"
    }
   ],
   "source": [
    "# calculate the time for task 1\n",
    "task1_rep1 = (df_task_1_1.iloc[50]['timestamp_msSinceEpoch'] - df_task_1_1.iloc[0]['timestamp_msSinceEpoch'])/sec + first_pointing\n",
    "task1_rep2 = (df_task_1_1.iloc[104]['timestamp_msSinceEpoch'] - df_task_1_1.iloc[54]['timestamp_msSinceEpoch'])/sec + first_pointing\n",
    "task1_rep3 = (df_task_1_1.iloc[182]['timestamp_msSinceEpoch'] - df_task_1_1.iloc[132]['timestamp_msSinceEpoch'])/sec + first_pointing\n",
    "task1_rep4 = (df_task_1_1.iloc[234]['timestamp_msSinceEpoch'] - df_task_1_1.iloc[184]['timestamp_msSinceEpoch'])/sec + first_pointing\n",
    "task1_rep5 = (df_task_1_1.iloc[286]['timestamp_msSinceEpoch'] - df_task_1_1.iloc[236]['timestamp_msSinceEpoch'])/sec + first_pointing\n",
    "task1_rep6 = (df_task_1_1.iloc[338]['timestamp_msSinceEpoch'] - df_task_1_1.iloc[288]['timestamp_msSinceEpoch'])/sec + first_pointing\n",
    "task1_rep7 = (df_task_1_1.iloc[390]['timestamp_msSinceEpoch'] - df_task_1_1.iloc[340]['timestamp_msSinceEpoch'])/sec + first_pointing\n",
    "task1_rep8 = (df_task_1_1.iloc[442]['timestamp_msSinceEpoch'] - df_task_1_1.iloc[392]['timestamp_msSinceEpoch'])/sec + first_pointing\n",
    "task1_rep8 = (df_task_1_1.iloc[442]['timestamp_msSinceEpoch'] - df_task_1_1.iloc[392]['timestamp_msSinceEpoch'])/sec + first_pointing\n",
    "task1_rep9 = (df_task_1_1.iloc[494]['timestamp_msSinceEpoch'] - df_task_1_1.iloc[444]['timestamp_msSinceEpoch'])/sec + first_pointing\n",
    "task1_rep10 = (df_task_1_1.iloc[586]['timestamp_msSinceEpoch'] - df_task_1_1.iloc[536]['timestamp_msSinceEpoch'])/sec + first_pointing\n",
    "task1_rep11 = (df_task_1_2.iloc[50]['timestamp_msSinceEpoch'] - df_task_1_2.iloc[0]['timestamp_msSinceEpoch'])/sec + first_pointing\n",
    "task1_rep12 = (df_task_1_2.iloc[102]['timestamp_msSinceEpoch'] - df_task_1_2.iloc[52]['timestamp_msSinceEpoch'])/sec + first_pointing\n",
    "task1_rep13 = (df_task_1_2.iloc[154]['timestamp_msSinceEpoch'] - df_task_1_2.iloc[104]['timestamp_msSinceEpoch'])/sec + first_pointing\n",
    "task1_rep14 = (df_task_1_2.iloc[206]['timestamp_msSinceEpoch'] - df_task_1_2.iloc[156]['timestamp_msSinceEpoch'])/sec + first_pointing\n",
    "task1_rep15 = (df_task_1_2.iloc[258]['timestamp_msSinceEpoch'] - df_task_1_2.iloc[208]['timestamp_msSinceEpoch'])/sec + first_pointing\n",
    "task1_rep16 = (df_task_1_2.iloc[310]['timestamp_msSinceEpoch'] - df_task_1_2.iloc[260]['timestamp_msSinceEpoch'])/sec + first_pointing\n",
    "task1_rep17 = (df_task_1_2.iloc[362]['timestamp_msSinceEpoch'] - df_task_1_2.iloc[312]['timestamp_msSinceEpoch'])/sec + first_pointing\n",
    "task1_rep18 = (df_task_1_2.iloc[414]['timestamp_msSinceEpoch'] - df_task_1_2.iloc[364]['timestamp_msSinceEpoch'])/sec + first_pointing\n",
    "task1_rep19 = (df_task_1_2.iloc[466]['timestamp_msSinceEpoch'] - df_task_1_2.iloc[416]['timestamp_msSinceEpoch'])/sec + first_pointing\n",
    "task1_rep20 = (df_task_1_2.iloc[518]['timestamp_msSinceEpoch'] - df_task_1_2.iloc[468]['timestamp_msSinceEpoch'])/sec + first_pointing\n",
    "mean_task1 = np.mean([task1_rep1, task1_rep2, task1_rep3, task1_rep4, task1_rep5, task1_rep6, task1_rep7, task1_rep8, task1_rep9, task1_rep10, task1_rep11, task1_rep12, task1_rep13, task1_rep14, task1_rep15, task1_rep16, task1_rep17, task1_rep18, task1_rep19, task1_rep20])\n",
    "stdev_task1 = np.std([task1_rep1, task1_rep2, task1_rep3, task1_rep4, task1_rep5, task1_rep6, task1_rep7, task1_rep8, task1_rep9, task1_rep10, task1_rep11, task1_rep12, task1_rep13, task1_rep14, task1_rep15, task1_rep16, task1_rep17, task1_rep18, task1_rep19, task1_rep20])"
   ]
  },
  {
   "cell_type": "code",
   "execution_count": 91,
   "id": "banned-margin",
   "metadata": {},
   "outputs": [
    {
     "data": {
      "text/plain": [
       "Text(0, 0.5, 'time in sec')"
      ]
     },
     "execution_count": 91,
     "metadata": {},
     "output_type": "execute_result"
    },
    {
     "data": {
      "image/png": "[encoded data removed]",
      "text/plain": [
       "<Figure size 432x288 with 1 Axes>"
      ]
     },
     "metadata": {
      "needs_background": "light"
     },
     "output_type": "display_data"
    }
   ],
   "source": [
    "# Comparison of task 1 with the estimated times of Card, Moran, Newell and Kieras and the calculator\n",
    "x = np.arange(3)\n",
    "width = 0.4\n",
    "cmnk_task1 = 66.3\n",
    "calc_task1 = 62.22\n",
    "plt.bar(x, (cmnk_task1, calc_task1, mean_task1), width, yerr=[0, 0, stdev_task1], capsize= 10)\n",
    "plt.title('Difference between estimated and actual performance times for task 1')\n",
    "plt.xlabel('average times')\n",
    "plt.xticks(x, ['CMNK', 'Calculator', 'Task'])\n",
    "plt.ylabel('time in sec')"
   ]
  },
  {
   "cell_type": "code",
   "execution_count": 107,
   "id": "expired-litigation",
   "metadata": {},
   "outputs": [
    {
     "data": {
      "text/plain": [
       "15.1093"
      ]
     },
     "execution_count": 107,
     "metadata": {},
     "output_type": "execute_result"
    }
   ],
   "source": [
    "# calculate the time for task 2\n",
    "task2_rep1 = (df_task_2_1.iloc[50]['timestamp_msSinceEpoch'] - df_task_2_1.iloc[0]['timestamp_msSinceEpoch'])/sec + first_pointing\n",
    "task2_rep2 = (df_task_2_1.iloc[102]['timestamp_msSinceEpoch'] - df_task_2_1.iloc[51]['timestamp_msSinceEpoch'])/sec + first_pointing\n",
    "task2_rep3 = (df_task_2_1.iloc[206]['timestamp_msSinceEpoch'] - df_task_2_1.iloc[156]['timestamp_msSinceEpoch'])/sec + first_pointing\n",
    "task2_rep4 = (df_task_2_1.iloc[258]['timestamp_msSinceEpoch'] - df_task_2_1.iloc[208]['timestamp_msSinceEpoch'])/sec + first_pointing\n",
    "task2_rep5 = (df_task_2_1.iloc[362]['timestamp_msSinceEpoch'] - df_task_2_1.iloc[312]['timestamp_msSinceEpoch'])/sec + first_pointing\n",
    "task2_rep6 = (df_task_2_1.iloc[414]['timestamp_msSinceEpoch'] - df_task_2_1.iloc[364]['timestamp_msSinceEpoch'])/sec + first_pointing\n",
    "task2_rep7 = (df_task_2_1.iloc[466]['timestamp_msSinceEpoch'] - df_task_2_1.iloc[416]['timestamp_msSinceEpoch'])/sec + first_pointing\n",
    "task2_rep8 = (df_task_2_1.iloc[594]['timestamp_msSinceEpoch'] - df_task_2_1.iloc[544]['timestamp_msSinceEpoch'])/sec + first_pointing\n",
    "task2_rep9 = (df_task_2_1.iloc[697]['timestamp_msSinceEpoch'] - df_task_2_1.iloc[647]['timestamp_msSinceEpoch'])/sec + first_pointing\n",
    "task2_rep10 = (df_task_2_1.iloc[770]['timestamp_msSinceEpoch'] - df_task_2_1.iloc[720]['timestamp_msSinceEpoch'])/sec + first_pointing\n",
    "task2_rep11 = (df_task_2_2.iloc[50]['timestamp_msSinceEpoch'] - df_task_2_2.iloc[0]['timestamp_msSinceEpoch'])/sec + first_pointing\n",
    "task2_rep12 = (df_task_2_2.iloc[102]['timestamp_msSinceEpoch'] - df_task_2_2.iloc[52]['timestamp_msSinceEpoch'])/sec + first_pointing\n",
    "task2_rep13 = (df_task_2_2.iloc[154]['timestamp_msSinceEpoch'] - df_task_2_2.iloc[104]['timestamp_msSinceEpoch'])/sec + first_pointing\n",
    "task2_rep14 = (df_task_2_2.iloc[206]['timestamp_msSinceEpoch'] - df_task_2_2.iloc[156]['timestamp_msSinceEpoch'])/sec + first_pointing\n",
    "task2_rep15 = (df_task_2_2.iloc[258]['timestamp_msSinceEpoch'] - df_task_2_2.iloc[208]['timestamp_msSinceEpoch'])/sec + first_pointing\n",
    "task2_rep16 = (df_task_2_2.iloc[310]['timestamp_msSinceEpoch'] - df_task_2_2.iloc[260]['timestamp_msSinceEpoch'])/sec + first_pointing\n",
    "task2_rep17 = (df_task_2_2.iloc[362]['timestamp_msSinceEpoch'] - df_task_2_2.iloc[312]['timestamp_msSinceEpoch'])/sec + first_pointing\n",
    "task2_rep18 = (df_task_2_2.iloc[414]['timestamp_msSinceEpoch'] - df_task_2_2.iloc[364]['timestamp_msSinceEpoch'])/sec + first_pointing\n",
    "task2_rep19 = (df_task_2_2.iloc[466]['timestamp_msSinceEpoch'] - df_task_2_2.iloc[416]['timestamp_msSinceEpoch'])/sec + first_pointing\n",
    "task2_rep20 = (df_task_2_2.iloc[518]['timestamp_msSinceEpoch'] - df_task_2_2.iloc[468]['timestamp_msSinceEpoch'])/sec + first_pointing\n",
    "mean_task2 = np.mean([task2_rep1, task2_rep2, task2_rep3, task2_rep4, task2_rep5, task2_rep6, task2_rep7, task2_rep8, task2_rep9, task2_rep10, task2_rep11, task2_rep12, task2_rep13, task2_rep14, task2_rep15, task2_rep16, task2_rep17, task2_rep18, task2_rep19, task2_rep20])\n",
    "stdev_task2 = np.std([task2_rep1, task2_rep2, task2_rep3, task2_rep4, task2_rep5, task2_rep6, task2_rep7, task2_rep8, task2_rep9, task2_rep10, task2_rep11, task2_rep12, task2_rep13, task2_rep14, task2_rep15, task2_rep16, task2_rep17, task2_rep18, task2_rep19, task2_rep20])"
   ]
  },
  {
   "cell_type": "code",
   "execution_count": 93,
   "id": "decimal-printing",
   "metadata": {},
   "outputs": [
    {
     "data": {
      "text/plain": [
       "Text(0, 0.5, 'time in ms')"
      ]
     },
     "execution_count": 93,
     "metadata": {},
     "output_type": "execute_result"
    },
    {
     "data": {
      "image/png": "[encoded data removed]",
      "text/plain": [
       "<Figure size 432x288 with 1 Axes>"
      ]
     },
     "metadata": {
      "needs_background": "light"
     },
     "output_type": "display_data"
    }
   ],
   "source": [
    "# compare time for task 1 and 2 in a boxplot\n",
    "plt.boxplot([[task1_rep1, task1_rep2, task1_rep3, task1_rep4, task1_rep5, task1_rep6, task1_rep7, task1_rep8, task1_rep9, task1_rep10, task1_rep11, task1_rep12, task1_rep13, task1_rep14, task1_rep15, task1_rep16, task1_rep17, task1_rep18, task1_rep19, task1_rep20], [task2_rep1, task2_rep2, task2_rep3, task2_rep4, task2_rep5, task2_rep6, task2_rep7, task2_rep8, task2_rep9, task2_rep10, task2_rep11, task2_rep12, task2_rep13, task2_rep14, task2_rep15, task2_rep16, task2_rep17, task2_rep18, task2_rep19, task2_rep20]])\n",
    "plt.title('Average time for task 1 and 2')\n",
    "plt.xlabel('tasks')\n",
    "plt.ylabel('time in ms')"
   ]
  },
  {
   "cell_type": "code",
   "execution_count": 94,
   "id": "affecting-visit",
   "metadata": {},
   "outputs": [
    {
     "data": {
      "text/plain": [
       "Text(0, 0.5, 'time in sec')"
      ]
     },
     "execution_count": 94,
     "metadata": {},
     "output_type": "execute_result"
    },
    {
     "data": {
      "image/png": "[encoded data removed]",
      "text/plain": [
       "<Figure size 432x288 with 1 Axes>"
      ]
     },
     "metadata": {
      "needs_background": "light"
     },
     "output_type": "display_data"
    }
   ],
   "source": [
    "# Comparison of task 13with the estimated times of Card, Moran, Newell and Kieras and the calculator\n",
    "x = np.arange(3)\n",
    "width = 0.4\n",
    "cmnk_task2 = 10.2\n",
    "calc_task2 = 10.2\n",
    "plt.bar(x, (cmnk_task2, calc_task2, mean_task2), width, yerr=[0, 0, stdev_task2], capsize= 10)\n",
    "plt.title('Difference between estimated and actual performance times for task 2')\n",
    "plt.xlabel('average times')\n",
    "plt.xticks(x, ['CMNK', 'Calculator', 'Task'])\n",
    "plt.ylabel('time in sec')"
   ]
  },
  {
   "cell_type": "code",
   "execution_count": 106,
   "id": "computational-overhead",
   "metadata": {},
   "outputs": [
    {
     "data": {
      "text/plain": [
       "11.434099999999999"
      ]
     },
     "execution_count": 106,
     "metadata": {},
     "output_type": "execute_result"
    }
   ],
   "source": [
    "# calculate time for task 3\n",
    "task3_rep1 = (df_task_3_1.iloc[13]['timestamp_msSinceEpoch'] - df_task_3_1.iloc[0]['timestamp_msSinceEpoch'])/sec + first_pointing\n",
    "task3_rep2 = (df_task_3_1.iloc[40]['timestamp_msSinceEpoch'] - df_task_3_1.iloc[27]['timestamp_msSinceEpoch'])/sec + first_pointing\n",
    "task3_rep3 = (df_task_3_1.iloc[55]['timestamp_msSinceEpoch'] - df_task_3_1.iloc[42]['timestamp_msSinceEpoch'])/sec + first_pointing\n",
    "task3_rep4 = (df_task_3_1.iloc[80]['timestamp_msSinceEpoch'] - df_task_3_1.iloc[67]['timestamp_msSinceEpoch'])/sec + first_pointing\n",
    "task3_rep5 = (df_task_3_1.iloc[95]['timestamp_msSinceEpoch'] - df_task_3_1.iloc[82]['timestamp_msSinceEpoch'])/sec + first_pointing\n",
    "task3_rep6 = (df_task_3_1.iloc[110]['timestamp_msSinceEpoch'] - df_task_3_1.iloc[91]['timestamp_msSinceEpoch'])/sec + first_pointing\n",
    "task3_rep7 = (df_task_3_1.iloc[125]['timestamp_msSinceEpoch'] - df_task_3_1.iloc[112]['timestamp_msSinceEpoch'])/sec + first_pointing\n",
    "task3_rep8 = (df_task_3_1.iloc[144]['timestamp_msSinceEpoch'] - df_task_3_1.iloc[131]['timestamp_msSinceEpoch'])/sec + first_pointing\n",
    "task3_rep9 = (df_task_3_1.iloc[159]['timestamp_msSinceEpoch'] - df_task_3_1.iloc[146]['timestamp_msSinceEpoch'])/sec + first_pointing\n",
    "task3_rep10 = (df_task_3_1.iloc[174]['timestamp_msSinceEpoch'] - df_task_3_1.iloc[161]['timestamp_msSinceEpoch'])/sec + first_pointing\n",
    "task3_rep11 = (df_task_3_2.iloc[13]['timestamp_msSinceEpoch'] - df_task_3_2.iloc[0]['timestamp_msSinceEpoch'])/sec + first_pointing\n",
    "task3_rep12 = (df_task_3_2.iloc[28]['timestamp_msSinceEpoch'] - df_task_3_2.iloc[15]['timestamp_msSinceEpoch'])/sec + first_pointing\n",
    "task3_rep13 = (df_task_3_2.iloc[43]['timestamp_msSinceEpoch'] - df_task_3_2.iloc[30]['timestamp_msSinceEpoch'])/sec + first_pointing\n",
    "task3_rep14 = (df_task_3_2.iloc[58]['timestamp_msSinceEpoch'] - df_task_3_2.iloc[45]['timestamp_msSinceEpoch'])/sec + first_pointing\n",
    "task3_rep15 = (df_task_3_2.iloc[73]['timestamp_msSinceEpoch'] - df_task_3_2.iloc[60]['timestamp_msSinceEpoch'])/sec + first_pointing\n",
    "task3_rep16 = (df_task_3_2.iloc[88]['timestamp_msSinceEpoch'] - df_task_3_2.iloc[75]['timestamp_msSinceEpoch'])/sec + first_pointing\n",
    "task3_rep17 = (df_task_3_2.iloc[103]['timestamp_msSinceEpoch'] - df_task_3_2.iloc[90]['timestamp_msSinceEpoch'])/sec + first_pointing\n",
    "task3_rep18 = (df_task_3_2.iloc[118]['timestamp_msSinceEpoch'] - df_task_3_2.iloc[105]['timestamp_msSinceEpoch'])/sec + first_pointing\n",
    "task3_rep19 = (df_task_3_2.iloc[133]['timestamp_msSinceEpoch'] - df_task_3_2.iloc[120]['timestamp_msSinceEpoch'])/sec + first_pointing\n",
    "task3_rep20 = (df_task_3_2.iloc[159]['timestamp_msSinceEpoch'] - df_task_3_2.iloc[146]['timestamp_msSinceEpoch'])/sec + first_pointing\n",
    "mean_task3 = np.mean([task3_rep1, task3_rep2, task3_rep3, task3_rep4, task3_rep5, task3_rep6, task3_rep7, task3_rep8, task3_rep9, task3_rep10, task3_rep11, task3_rep12, task3_rep13, task3_rep14, task3_rep15, task3_rep16, task3_rep17, task3_rep18, task3_rep19, task3_rep20])\n",
    "stdev_task3 = np.std([task3_rep1, task3_rep2, task3_rep3, task3_rep4, task3_rep5, task3_rep6, task3_rep7, task3_rep8, task3_rep9, task3_rep10, task3_rep11, task3_rep12, task3_rep13, task3_rep14, task3_rep15, task3_rep16, task3_rep17, task3_rep18, task3_rep19, task3_rep20])\n",
    "mean_task3"
   ]
  },
  {
   "cell_type": "code",
   "execution_count": 96,
   "id": "registered-hamburg",
   "metadata": {},
   "outputs": [
    {
     "data": {
      "text/plain": [
       "Text(0, 0.5, 'time in sec')"
      ]
     },
     "execution_count": 96,
     "metadata": {},
     "output_type": "execute_result"
    },
    {
     "data": {
      "image/png": "[encoded data removed]",
      "text/plain": [
       "<Figure size 432x288 with 1 Axes>"
      ]
     },
     "metadata": {
      "needs_background": "light"
     },
     "output_type": "display_data"
    }
   ],
   "source": [
    "# Comparison of task 3 with the estimated times of Card, Moran, Newell and Kieras and the calculator\n",
    "x = np.arange(3)\n",
    "width = 0.4\n",
    "cmnk_task3 = 18.2\n",
    "calc_task3 = 17.08\n",
    "plt.bar(x, (cmnk_task3, calc_task3, mean_task3), width, yerr=[0, 0, stdev_task3], capsize= 10)\n",
    "plt.title('Difference between estimated and actual performance times for task 3')\n",
    "plt.xlabel('average times')\n",
    "plt.xticks(x, ['CMNK', 'Calculator', 'Task'])\n",
    "plt.ylabel('time in sec')"
   ]
  },
  {
   "cell_type": "code",
   "execution_count": 103,
   "id": "going-morris",
   "metadata": {},
   "outputs": [
    {
     "data": {
      "text/plain": [
       "7.4744"
      ]
     },
     "execution_count": 103,
     "metadata": {},
     "output_type": "execute_result"
    }
   ],
   "source": [
    "# calculate the time for task 4\n",
    "task4_rep1 = (df_task_4_1.iloc[16]['timestamp_msSinceEpoch'] - df_task_4_1.iloc[0]['timestamp_msSinceEpoch'])/sec + first_pointing\n",
    "task4_rep2 = (df_task_4_1.iloc[34]['timestamp_msSinceEpoch'] - df_task_4_1.iloc[18]['timestamp_msSinceEpoch'])/sec + first_pointing\n",
    "task4_rep3 = (df_task_4_1.iloc[67]['timestamp_msSinceEpoch'] - df_task_4_1.iloc[51]['timestamp_msSinceEpoch'])/sec + first_pointing\n",
    "task4_rep4 = (df_task_4_1.iloc[85]['timestamp_msSinceEpoch'] - df_task_4_1.iloc[69]['timestamp_msSinceEpoch'])/sec + first_pointing\n",
    "task4_rep5 = (df_task_4_1.iloc[103]['timestamp_msSinceEpoch'] - df_task_4_1.iloc[87]['timestamp_msSinceEpoch'])/sec + first_pointing\n",
    "task4_rep6 = (df_task_4_1.iloc[121]['timestamp_msSinceEpoch'] - df_task_4_1.iloc[105]['timestamp_msSinceEpoch'])/sec + first_pointing\n",
    "task4_rep7 = (df_task_4_1.iloc[139]['timestamp_msSinceEpoch'] - df_task_4_1.iloc[123]['timestamp_msSinceEpoch'])/sec + first_pointing\n",
    "task4_rep8 = (df_task_4_1.iloc[157]['timestamp_msSinceEpoch'] - df_task_4_1.iloc[141]['timestamp_msSinceEpoch'])/sec + first_pointing\n",
    "task4_rep9 = (df_task_4_1.iloc[175]['timestamp_msSinceEpoch'] - df_task_4_1.iloc[159]['timestamp_msSinceEpoch'])/sec + first_pointing\n",
    "task4_rep10 =(df_task_4_1.iloc[193]['timestamp_msSinceEpoch'] - df_task_4_1.iloc[177]['timestamp_msSinceEpoch'])/sec + first_pointing\n",
    "task4_rep11 = (df_task_4_2.iloc[16]['timestamp_msSinceEpoch'] - df_task_4_2.iloc[0]['timestamp_msSinceEpoch'])/sec + first_pointing\n",
    "task4_rep12 = (df_task_4_2.iloc[34]['timestamp_msSinceEpoch'] - df_task_4_2.iloc[18]['timestamp_msSinceEpoch'])/sec + first_pointing\n",
    "task4_rep13 = (df_task_4_2.iloc[52]['timestamp_msSinceEpoch'] - df_task_4_2.iloc[36]['timestamp_msSinceEpoch'])/sec + first_pointing\n",
    "task4_rep14 = (df_task_4_2.iloc[70]['timestamp_msSinceEpoch'] - df_task_4_2.iloc[54]['timestamp_msSinceEpoch'])/sec + first_pointing\n",
    "task4_rep15 = (df_task_4_2.iloc[88]['timestamp_msSinceEpoch'] - df_task_4_2.iloc[72]['timestamp_msSinceEpoch'])/sec + first_pointing\n",
    "task4_rep16 = (df_task_4_2.iloc[106]['timestamp_msSinceEpoch'] - df_task_4_2.iloc[90]['timestamp_msSinceEpoch'])/sec + first_pointing\n",
    "task4_rep17 = (df_task_4_2.iloc[124]['timestamp_msSinceEpoch'] - df_task_4_2.iloc[108]['timestamp_msSinceEpoch'])/sec + first_pointing\n",
    "task4_rep18 = (df_task_4_2.iloc[142]['timestamp_msSinceEpoch'] - df_task_4_2.iloc[126]['timestamp_msSinceEpoch'])/sec + first_pointing\n",
    "task4_rep19 = (df_task_4_2.iloc[160]['timestamp_msSinceEpoch'] - df_task_4_2.iloc[144]['timestamp_msSinceEpoch'])/sec + first_pointing\n",
    "task4_rep20 = (df_task_4_2.iloc[178]['timestamp_msSinceEpoch'] - df_task_4_2.iloc[162]['timestamp_msSinceEpoch'])/sec + first_pointing\n",
    "mean_task4 = np.mean([task4_rep1, task4_rep2, task4_rep3, task4_rep4, task4_rep5, task4_rep6, task4_rep7, task4_rep8, task4_rep9, task4_rep10, task4_rep11, task4_rep12, task4_rep13, task4_rep14, task4_rep15, task4_rep16, task4_rep17, task4_rep18, task4_rep19, task4_rep20])\n",
    "stdev_task4 = np.std([task4_rep1, task4_rep2, task4_rep3, task4_rep4, task4_rep5, task4_rep6, task4_rep7, task4_rep8, task4_rep9, task4_rep10, task4_rep11, task4_rep12, task4_rep13, task4_rep14, task4_rep15, task4_rep16, task4_rep17, task4_rep18, task4_rep19, task4_rep20])\n",
    "mean_task4"
   ]
  },
  {
   "cell_type": "code",
   "execution_count": 98,
   "id": "related-sweden",
   "metadata": {},
   "outputs": [
    {
     "data": {
      "text/plain": [
       "Text(0, 0.5, 'time in ms')"
      ]
     },
     "execution_count": 98,
     "metadata": {},
     "output_type": "execute_result"
    },
    {
     "data": {
      "image/png": "[encoded data removed]",
      "text/plain": [
       "<Figure size 432x288 with 1 Axes>"
      ]
     },
     "metadata": {
      "needs_background": "light"
     },
     "output_type": "display_data"
    }
   ],
   "source": [
    "# compare time for task 3 and 4 in a boxplot\n",
    "plt.boxplot([[task3_rep1, task3_rep2, task3_rep3, task3_rep4, task3_rep5, task3_rep6, task3_rep7, task3_rep8, task3_rep9, task3_rep10, task3_rep11, task3_rep12, task3_rep13, task3_rep14, task3_rep15, task3_rep16, task3_rep17, task3_rep18, task3_rep19, task3_rep20], [task4_rep1, task4_rep2, task4_rep3, task4_rep4, task4_rep5, task4_rep6, task4_rep7, task4_rep8, task4_rep9, task4_rep10, task4_rep11, task4_rep12, task4_rep13, task4_rep14, task4_rep15, task4_rep16, task4_rep17, task4_rep18, task4_rep19, task4_rep20]])\n",
    "plt.title('Average time for task 3 and 4')\n",
    "plt.xlabel('tasks')\n",
    "plt.ylabel('time in ms')"
   ]
  },
  {
   "cell_type": "code",
   "execution_count": 99,
   "id": "tight-headline",
   "metadata": {},
   "outputs": [
    {
     "data": {
      "text/plain": [
       "Text(0, 0.5, 'time in sec')"
      ]
     },
     "execution_count": 99,
     "metadata": {},
     "output_type": "execute_result"
    },
    {
     "data": {
      "image/png": "[encoded data removed]",
      "text/plain": [
       "<Figure size 432x288 with 1 Axes>"
      ]
     },
     "metadata": {
      "needs_background": "light"
     },
     "output_type": "display_data"
    }
   ],
   "source": [
    "# Comparison of task 4 with the estimated times of Card, Moran, Newell and Kieras and the calculator\n",
    "x = np.arange(3)\n",
    "width = 0.4\n",
    "cmnk_task4 = 3.4\n",
    "calc_task4 = 3.4\n",
    "plt.bar(x, (cmnk_task4, calc_task4, mean_task4), width, yerr=[0, 0, stdev_task4], capsize= 10)\n",
    "plt.title('Difference between estimated and actual performance times for task 4')\n",
    "plt.xlabel('average times')\n",
    "plt.xticks(x, ['CMNK', 'Calculator', 'Task'])\n",
    "plt.ylabel('time in sec')"
   ]
  }
 ],
 "metadata": {
  "kernelspec": {
   "display_name": "Python 3",
   "language": "python",
   "name": "python3"
  },
  "language_info": {
   "codemirror_mode": {
    "name": "ipython",
    "version": 3
   },
   "file_extension": ".py",
   "mimetype": "text/x-python",
   "name": "python",
   "nbconvert_exporter": "python",
   "pygments_lexer": "ipython3",
   "version": "3.9.2"
  }
 },
 "nbformat": 4,
 "nbformat_minor": 5
}
